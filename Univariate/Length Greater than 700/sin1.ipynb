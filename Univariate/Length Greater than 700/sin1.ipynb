{
 "cells": [
  {
   "cell_type": "code",
   "execution_count": null,
   "id": "bb8b8101",
   "metadata": {},
   "outputs": [],
   "source": [
    "\n",
    "import numpy as np\n",
    "import pandas as pd\n",
    "\n",
    "# Параметры для синусоиды\n",
    "amplitude_min = 100\n",
    "amplitude_max = 200\n",
    "num_cycles = 10\n",
    "samples_per_cycle = 100  # 1 цикл = 100 секунд\n",
    "sampling_rate = 1  # 1 точка в секунду\n",
    "total_samples = num_cycles * samples_per_cycle\n",
    "\n",
    "# Время для дискретизации\n",
    "time = np.linspace(0, num_cycles * samples_per_cycle, total_samples, endpoint=False)\n",
    "\n",
    "# Рассчет синусоиды\n",
    "# Амплитуда синусоиды изменяется по закону (amplitude_min + amplitude_max)/2 + (amplitude_max - amplitude_min)/2 * sin(t)\n",
    "amplitude = (amplitude_max - amplitude_min) / 2 * np.sin(2 * np.pi * time / samples_per_cycle) + (amplitude_max + amplitude_min) / 2\n",
    "\n",
    "# Создание DataFrame с тестовыми данными\n",
    "df = pd.DataFrame({'Time (s)': time, 'Amplitude': amplitude})\n",
    "\n",
    "# Сохранение датасета для нейросети\n",
    "dataset = df['Amplitude'].values.reshape(-1, 1)\n",
    "dataset_df = pd.DataFrame(dataset, columns=['Amplitude'])\n",
    "dataset_df.to_csv('sine_wave_dataset.csv', index=False)\n",
    "\n",
    "dataset_df.head()  # отображение первых строк данных\n"
   ]
  }
 ],
 "metadata": {},
 "nbformat": 4,
 "nbformat_minor": 5
}
